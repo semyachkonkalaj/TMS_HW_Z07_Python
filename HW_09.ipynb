{
 "cells": [
  {
   "cell_type": "code",
   "execution_count": null,
   "metadata": {},
   "outputs": [],
   "source": []
  },
  {
   "cell_type": "code",
   "execution_count": 43,
   "metadata": {},
   "outputs": [
    {
     "name": "stdout",
     "output_type": "stream",
     "text": [
      "Hello Петя\n",
      "None\n"
     ]
    }
   ],
   "source": [
    "#Задача из презентации 9.01\n",
    "'''\n",
    "Создать lambda функцию, которая\n",
    "принимает на вход имя и выводит его\n",
    "в формате “Hello, {name}”\n",
    "'''\n",
    "a= lambda name: print('Hello', name)\n",
    "print(a('Петя'))"
   ]
  },
  {
   "cell_type": "code",
   "execution_count": 21,
   "metadata": {},
   "outputs": [
    {
     "name": "stdout",
     "output_type": "stream",
     "text": [
      "['5', '3']\n"
     ]
    }
   ],
   "source": [
    "# Задача из презентации 9.03. Дан список чисел. Вернуть список, где каждый число переведено в строку\n",
    "a=[5,3]\n",
    "a=[str(i) for i in a]\n",
    "print(a)\n"
   ]
  },
  {
   "cell_type": "code",
   "execution_count": 62,
   "metadata": {},
   "outputs": [],
   "source": [
    "#1 из файла HM-09 #Написать декоратор, который будет выводить время выполнения функции, а также аргументы, с которыми она была вызвана."
   ]
  },
  {
   "cell_type": "code",
   "execution_count": 49,
   "metadata": {},
   "outputs": [
    {
     "name": "stdout",
     "output_type": "stream",
     "text": [
      "True\n"
     ]
    }
   ],
   "source": [
    "#2 Написать программу, которая проверяет, начинается ли строка с данного символа, используя lambda функцию.\n",
    "t= lambda x,y: x[0]==y\n",
    "print(t('sport','s'))"
   ]
  },
  {
   "cell_type": "code",
   "execution_count": 47,
   "metadata": {},
   "outputs": [
    {
     "name": "stdout",
     "output_type": "stream",
     "text": [
      "False\n"
     ]
    }
   ],
   "source": [
    "#3 Написать программу, которая проверяет, является ли данная строка числом или нет, используя lambda функцию.\n",
    "b= lambda z: str(z)==float(z)\n",
    "print(b(10))"
   ]
  },
  {
   "cell_type": "code",
   "execution_count": 42,
   "metadata": {},
   "outputs": [
    {
     "name": "stdout",
     "output_type": "stream",
     "text": [
      "[19, 65, 57, 39, 152, 190]\n"
     ]
    }
   ],
   "source": [
    "#4 Написать программу, которая ищет числа, делящиеся на 19 или 13 в списке чисел , используя lambda функцию.\n",
    "List1=[19, 65, 57, 39, 152, 639, 121, 44, 90, 190]\n",
    "b=lambda x: x%19==0 or x%13==0\n",
    "kratnoe_19= list(filter(b,List1))\n",
    "print(kratnoe_19)"
   ]
  },
  {
   "cell_type": "code",
   "execution_count": null,
   "metadata": {},
   "outputs": [],
   "source": []
  },
  {
   "cell_type": "code",
   "execution_count": null,
   "metadata": {},
   "outputs": [],
   "source": []
  },
  {
   "cell_type": "code",
   "execution_count": null,
   "metadata": {},
   "outputs": [],
   "source": []
  },
  {
   "cell_type": "code",
   "execution_count": null,
   "metadata": {},
   "outputs": [],
   "source": []
  },
  {
   "cell_type": "code",
   "execution_count": null,
   "metadata": {},
   "outputs": [],
   "source": []
  },
  {
   "cell_type": "code",
   "execution_count": null,
   "metadata": {},
   "outputs": [],
   "source": []
  },
  {
   "cell_type": "code",
   "execution_count": null,
   "metadata": {},
   "outputs": [],
   "source": []
  }
 ],
 "metadata": {
  "kernelspec": {
   "display_name": "Python 3",
   "language": "python",
   "name": "python3"
  },
  "language_info": {
   "codemirror_mode": {
    "name": "ipython",
    "version": 3
   },
   "file_extension": ".py",
   "mimetype": "text/x-python",
   "name": "python",
   "nbconvert_exporter": "python",
   "pygments_lexer": "ipython3",
   "version": "3.8.5"
  }
 },
 "nbformat": 4,
 "nbformat_minor": 4
}
