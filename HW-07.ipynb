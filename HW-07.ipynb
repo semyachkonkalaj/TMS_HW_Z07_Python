{
 "cells": [
  {
   "cell_type": "code",
   "execution_count": 27,
   "metadata": {
    "scrolled": true
   },
   "outputs": [],
   "source": [
    "#1 дюймы в сантиметры\n",
    "def dm_cm(a):\n",
    "    return(a*2.54)\n",
    "    "
   ]
  },
  {
   "cell_type": "code",
   "execution_count": 28,
   "metadata": {},
   "outputs": [],
   "source": [
    "#2 сантиметры в дюймы\n",
    "def cm_dm(a):\n",
    "    return(a/2.54)"
   ]
  },
  {
   "cell_type": "code",
   "execution_count": 29,
   "metadata": {},
   "outputs": [],
   "source": [
    "#3 мили в киллометры\n",
    "def ml_km(a):\n",
    "    return(a*1.609)"
   ]
  },
  {
   "cell_type": "code",
   "execution_count": 30,
   "metadata": {},
   "outputs": [],
   "source": [
    "#4 километры в мили\n",
    "def km_ml(a):\n",
    "    return(a/1.609)"
   ]
  },
  {
   "cell_type": "code",
   "execution_count": 31,
   "metadata": {},
   "outputs": [],
   "source": [
    "#5 футы в килограммы\n",
    "def fnt_kg(a):\n",
    "    return(a/2.205)"
   ]
  },
  {
   "cell_type": "code",
   "execution_count": 32,
   "metadata": {},
   "outputs": [],
   "source": [
    "#6 килограммы в футы\n",
    "def kg_fnt(a):\n",
    "    return(a*2.205)"
   ]
  },
  {
   "cell_type": "code",
   "execution_count": 33,
   "metadata": {},
   "outputs": [],
   "source": [
    "#7 унции в граммы\n",
    "def unc_grm(a):\n",
    "    return(a*28.35)"
   ]
  },
  {
   "cell_type": "code",
   "execution_count": 34,
   "metadata": {},
   "outputs": [],
   "source": [
    "#8 граммы в унции\n",
    "def grm_unc(a):\n",
    "    return(a/28.35)"
   ]
  },
  {
   "cell_type": "code",
   "execution_count": 35,
   "metadata": {},
   "outputs": [],
   "source": [
    "#9 галоны в литры\n",
    "def gln_ltr(a):\n",
    "    return(a*3.785)"
   ]
  },
  {
   "cell_type": "code",
   "execution_count": 36,
   "metadata": {},
   "outputs": [],
   "source": [
    "#10 литры в галоны\n",
    "def ltr_gln(a):\n",
    "    return(a/3.785)"
   ]
  },
  {
   "cell_type": "code",
   "execution_count": 37,
   "metadata": {},
   "outputs": [],
   "source": [
    "#11 пинты в литры\n",
    "def pnt_ltr(a):\n",
    "    return(a/2.113)"
   ]
  },
  {
   "cell_type": "code",
   "execution_count": 38,
   "metadata": {},
   "outputs": [],
   "source": [
    "#12 литры в пинты\n",
    "def ltr_pnt(a):\n",
    "    return(a*2.113)"
   ]
  },
  {
   "cell_type": "code",
   "execution_count": 41,
   "metadata": {},
   "outputs": [
    {
     "name": "stdout",
     "output_type": "stream",
     "text": [
      "Выберите один из вариантов:\n",
      "1. дюймы в сантиметры\n",
      "2. сантиметры в дюймы\n",
      "3. мили в киллометры\n",
      "4. километры в мили\n",
      "5. футы в килограммы\n",
      "6. килограммы в футы\n",
      "7 унции в граммы\n",
      "8 граммы в унции\n",
      "9. галоны в литры\n",
      "10. литры в галоны\n",
      "11. пинты в литры\n",
      "12. литры в пинты\n",
      "9\n",
      "Введите численное значение: \n",
      "286\n",
      "Ответ: 1082.51\n"
     ]
    }
   ],
   "source": [
    "#программа\n",
    "print(\"Выберите один из вариантов:\")\n",
    "print(\"1. дюймы в сантиметры\")\n",
    "print(\"2. сантиметры в дюймы\")\n",
    "print(\"3. мили в киллометры\")\n",
    "print(\"4. километры в мили\")\n",
    "print(\"5. футы в килограммы\")\n",
    "print(\"6. килограммы в футы\")\n",
    "print(\"7 унции в граммы\")\n",
    "print(\"8 граммы в унции\")\n",
    "print(\"9. галоны в литры\")\n",
    "print(\"10. литры в галоны\")\n",
    "print(\"11. пинты в литры\")\n",
    "print(\"12. литры в пинты\")\n",
    "a=int(input())\n",
    "print(\"Введите численное значение: \")\n",
    "x=float(input())\n",
    "if a==1:\n",
    "    print(\"Ответ:\", dm_cm(x))\n",
    "if a==2:\n",
    "    print(\"Ответ:\", cm_dm(x))\n",
    "if a==3:\n",
    "    print(\"Ответ:\", ml_km(x))\n",
    "if a==4:\n",
    "    print(\"Ответ:\", km_ml(x))\n",
    "if a==5:\n",
    "    print(\"Ответ:\", fnt_kg(x))\n",
    "if a==6:\n",
    "    print(\"Ответ:\", kg_fnt(x))\n",
    "if a==7:\n",
    "    print(\"Ответ:\", unc_grm(x))\n",
    "if a==8:\n",
    "    print(\"Ответ:\", grm_unc(x))\n",
    "if a==9:\n",
    "    print(\"Ответ:\", gln_ltr(x))\n",
    "if a==10:\n",
    "    print(\"Ответ:\", ltr_gln(x))\n",
    "if a==11:\n",
    "    print(\"Ответ:\", pnt_ltr(x))\n",
    "if a==12:\n",
    "    print(\"Ответ:\", ltr_pnt(x))\n",
    "if a<=0 or a>12:\n",
    "    print(\"Введены неверные значения!\")\n",
    "\n",
    "        \n",
    "    "
   ]
  }
 ],
 "metadata": {
  "kernelspec": {
   "display_name": "Python 3",
   "language": "python",
   "name": "python3"
  }
 },
 "nbformat": 4,
 "nbformat_minor": 4
}
